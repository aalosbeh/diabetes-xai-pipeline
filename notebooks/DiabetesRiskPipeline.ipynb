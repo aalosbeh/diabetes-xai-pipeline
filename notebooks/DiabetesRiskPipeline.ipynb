{
 "cells": [
  {
   "cell_type": "markdown",
   "id": "b0f1092f",
   "metadata": {},
   "source": [
    "# Diabetes Risk Prediction with Explainable AI\n",
    "This notebook demonstrates an end-to-end pipeline for diabetes risk classification using:\n",
    "- MLP neural network classifier\n",
    "- SHAP and LIME for model explainability\n",
    "- DiCE for counterfactual generation\n",
    "\n",
    "Datasets: BRFSS 2015 Health Indicators, Diabetes_2\n"
   ]
  },
  {
   "cell_type": "code",
   "execution_count": null,
   "id": "ec809455",
   "metadata": {},
   "outputs": [],
   "source": [
    "import pandas as pd\n",
    "import matplotlib.pyplot as plt\n",
    "import seaborn as sns"
   ]
  },
  {
   "cell_type": "markdown",
   "id": "486829c9",
   "metadata": {},
   "source": [
    "## Load and Preprocess Data"
   ]
  },
  {
   "cell_type": "code",
   "execution_count": null,
   "id": "0578fce7",
   "metadata": {},
   "outputs": [],
   "source": [
    "from src.preprocess import load_and_merge_data, prepare_data\n",
    "\n",
    "df = load_and_merge_data()\n",
    "X_train_scaled, X_test_scaled, y_train_bal, y_test, feature_names, X_test_df = prepare_data(df)\n"
   ]
  },
  {
   "cell_type": "markdown",
   "id": "c71d1203",
   "metadata": {},
   "source": [
    "## Train MLP Classifier"
   ]
  },
  {
   "cell_type": "code",
   "execution_count": null,
   "id": "4b7bf451",
   "metadata": {},
   "outputs": [],
   "source": [
    "from src.model import train_mlp, evaluate_model\n",
    "\n",
    "clf = train_mlp(X_train_scaled, y_train_bal)\n",
    "results = evaluate_model(clf, X_test_scaled, y_test)\n",
    "print('Model Evaluation Results:')\n",
    "for key, value in results.items():\n",
    "    print(f\"{key}:\\n{value}\\n\")"
   ]
  },
  {
   "cell_type": "markdown",
   "id": "771ac038",
   "metadata": {},
   "source": [
    "## SHAP Explainability"
   ]
  },
  {
   "cell_type": "code",
   "execution_count": null,
   "id": "6e82f4a7",
   "metadata": {},
   "outputs": [],
   "source": [
    "from src.explainability import run_shap\n",
    "\n",
    "run_shap(clf, X_train_scaled, X_test_scaled, X_test_df, feature_names)"
   ]
  },
  {
   "cell_type": "markdown",
   "id": "571fefcd",
   "metadata": {},
   "source": [
    "## LIME Explainability"
   ]
  },
  {
   "cell_type": "code",
   "execution_count": null,
   "id": "0a64a814",
   "metadata": {},
   "outputs": [],
   "source": [
    "from src.explainability import run_lime\n",
    "\n",
    "import pandas as pd\n",
    "X_test_df_only = X_test_df.reset_index(drop=True)\n",
    "run_lime(clf, pd.DataFrame(X_train_scaled, columns=feature_names), X_test_df_only, feature_names)"
   ]
  },
  {
   "cell_type": "markdown",
   "id": "b37f756b",
   "metadata": {},
   "source": [
    "## Counterfactuals with DiCE"
   ]
  },
  {
   "cell_type": "code",
   "execution_count": null,
   "id": "1b81c11e",
   "metadata": {},
   "outputs": [],
   "source": [
    "from src.explainability import run_dice\n",
    "cf_df = run_dice(clf, pd.DataFrame(X_train_scaled, columns=feature_names), y_train_bal, feature_names)\n",
    "cf_df"
   ]
  }
 ],
 "metadata": {},
 "nbformat": 4,
 "nbformat_minor": 5
}
